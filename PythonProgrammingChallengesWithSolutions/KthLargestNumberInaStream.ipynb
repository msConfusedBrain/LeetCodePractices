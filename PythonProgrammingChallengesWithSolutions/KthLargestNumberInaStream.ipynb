{
  "nbformat": 4,
  "nbformat_minor": 0,
  "metadata": {
    "colab": {
      "provenance": []
    },
    "kernelspec": {
      "name": "python3",
      "display_name": "Python 3"
    },
    "language_info": {
      "name": "python"
    }
  },
  "cells": [
    {
      "cell_type": "markdown",
      "source": [
        "# ***Problem statement***\n",
        "\n",
        "Design a class to find the kth largest element in a stream. Note that it is the kth largest element in the sorted order, not the kth distinct element.\n",
        "\n",
        "Implement KthLargest class:\n",
        "\n",
        "KthLargest(int k, int[] nums) Initializes the object with the integer k and the stream of integers nums.\n",
        "int add(int val) Appends the integer val to the stream and returns the element representing the kth largest element in the stream.\n",
        "\n",
        "\n",
        "**Example 1:**\n",
        "\n",
        "Input\n",
        "[\"KthLargest\", \"add\", \"add\", \"add\", \"add\", \"add\"]\n",
        "[[3, [4, 5, 8, 2]], [3], [5], [10], [9], [4]]\n",
        "Output\n",
        "[null, 4, 5, 5, 8, 8]\n",
        "\n",
        "**Explanation**\n",
        "KthLargest kthLargest = new KthLargest(3, [4, 5, 8, 2]);\n",
        "kthLargest.add(3);   // return 4\n",
        "kthLargest.add(5);   // return 5\n",
        "kthLargest.add(10);  // return 5\n",
        "kthLargest.add(9);   // return 8\n",
        "kthLargest.add(4);   // return 8\n",
        "\n",
        "\n",
        "**Constraints:**\n",
        "\n",
        "1 <= k <= 104\n",
        "0 <= nums.length <= 104\n",
        "-104 <= nums[i] <= 104\n",
        "-104 <= val <= 104\n",
        "At most 104 calls will be made to add.\n",
        "It is guaranteed that there will be at least k elements in the array when you search for the kth element."
      ],
      "metadata": {
        "id": "zNteosGC97yf"
      }
    },
    {
      "cell_type": "code",
      "source": [
        "\"\"\"\n",
        "Naive solution :\n",
        "The idea is to store k and nums as class variables.\n",
        "Before storing nums it is sorted in non increasing order\n",
        "when ever add is called find the right place to put the val in the sorted array and place appropriately\n",
        "\"\"\"\n",
        "\n",
        "\n",
        "class KthLargest(object):\n",
        "    def sort(self, num_list):\n",
        "        if len(num_list)<2:\n",
        "            return num_list\n",
        "        pivot = num_list.pop(0)\n",
        "        left = [x for x in num_list if x > pivot]\n",
        "        right = [x for x in num_list if x <= pivot]\n",
        "        return self.sort(left) + [pivot]+ self.sort(right)\n",
        "    def __init__(self, k, nums):\n",
        "        \"\"\"\n",
        "        :type k: int\n",
        "        :type nums: List[int]\n",
        "        \"\"\"\n",
        "        self.k = k\n",
        "        self.nums = self.sort(nums) if nums else []\n",
        "\n",
        "\n",
        "    def add(self, val):\n",
        "        \"\"\"\n",
        "        :type val: int\n",
        "        :rtype: int\n",
        "        \"\"\"\n",
        "        if self.nums:\n",
        "            for i in range(len(self.nums)):\n",
        "                if val >= self.nums[i]:\n",
        "                    self.nums[i:i] = [val]\n",
        "                    break\n",
        "                if i == len(self.nums)-1:\n",
        "                    self.nums.append(val)\n",
        "\n",
        "        else:\n",
        "            self.nums.append(val)\n",
        "        return self.nums[self.k-1]\n",
        "\n",
        "\n",
        "# Your KthLargest object will be instantiated and called as such:\n",
        "def main():\n",
        "    k = int(input(\"Enter your value for k: \"))\n",
        "    nums = [int(item) for item in input(\"Enter \\\n",
        "                the list items separated by space: \").split()]\n",
        "    kthLargestObj = KthLargest(k,nums)\n",
        "    val = int(input(\"Enter your value for val: \"))\n",
        "    kthLargestNum = kthLargestObj.add(val)\n",
        "    print(kthLargestNum)\n",
        "if __name__ == '__main__':\n",
        "    main()"
      ],
      "metadata": {
        "colab": {
          "base_uri": "https://localhost:8080/"
        },
        "id": "8FcrPAGi-LqU",
        "outputId": "641e3251-89e2-4a73-f921-3d0358b21921"
      },
      "execution_count": 4,
      "outputs": [
        {
          "output_type": "stream",
          "name": "stdout",
          "text": [
            "Enter your value for k: 3\n",
            "Enter                 the list items separated by space: 4 5 8 2\n",
            "Enter your value for val: 3\n",
            "[8, 5, 4, 2]\n",
            "4\n"
          ]
        }
      ]
    }
  ]
}