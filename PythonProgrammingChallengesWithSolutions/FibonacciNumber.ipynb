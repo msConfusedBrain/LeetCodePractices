{
  "nbformat": 4,
  "nbformat_minor": 0,
  "metadata": {
    "colab": {
      "provenance": []
    },
    "kernelspec": {
      "name": "python3",
      "display_name": "Python 3"
    },
    "language_info": {
      "name": "python"
    }
  },
  "cells": [
    {
      "cell_type": "markdown",
      "source": [
        "The Fibonacci numbers, commonly denoted F(n) form a sequence, called the Fibonacci sequence, such that each number is the sum of the two preceding ones, starting from 0 and 1. That is,\n",
        "\n",
        "F(0) = 0, F(1) = 1\n",
        "F(n) = F(n - 1) + F(n - 2), for n > 1.\n",
        "Given n, calculate F(n).\n",
        "\n",
        "\n",
        "\n",
        "Example 1:\n",
        "\n",
        "Input: n = 2\n",
        "Output: 1\n",
        "Explanation: F(2) = F(1) + F(0) = 1 + 0 = 1.\n",
        "\n",
        "\n",
        "Example 2:\n",
        "\n",
        "Input: n = 3\n",
        "Output: 2\n",
        "Explanation: F(3) = F(2) + F(1) = 1 + 1 = 2.\n",
        "\n",
        "\n",
        "Example 3:\n",
        "\n",
        "Input: n = 4\n",
        "Output: 3\n",
        "Explanation: F(4) = F(3) + F(2) = 2 + 1 = 3.\n",
        "\n",
        "\n",
        "Constraints:\n",
        "\n",
        "0 <= n <= 30"
      ],
      "metadata": {
        "id": "D3H_XtAq6L3O"
      }
    },
    {
      "cell_type": "code",
      "execution_count": 6,
      "metadata": {
        "colab": {
          "base_uri": "https://localhost:8080/"
        },
        "id": "YpP7IAoD39xC",
        "outputId": "51732c02-9e13-474f-9305-a835bc430335"
      },
      "outputs": [
        {
          "output_type": "stream",
          "name": "stdout",
          "text": [
            "Fibonacci Number is 2\n"
          ]
        }
      ],
      "source": [
        "\n",
        "\n",
        "class Solution():\n",
        "    def fib(self, n):\n",
        "        \"\"\"\n",
        "        :type n: int\n",
        "        :rtype: int\n",
        "        \"\"\"\n",
        "        if n == 0:\n",
        "            return 0\n",
        "        elif n == 1:\n",
        "            return 1\n",
        "        else:\n",
        "            return self.fib(n-1) + self.fib(n-2)\n",
        "\n",
        "def main():\n",
        "    n = input(\"Enter your value for n: \")\n",
        "    fibonacciNumber = Solution().fib(n)\n",
        "    print(f'Fibonacci Number is {fibonacciNumber}')\n",
        "if __name__ == '__main__':\n",
        "    main()\n",
        "\n",
        ""
      ]
    }
  ]
}