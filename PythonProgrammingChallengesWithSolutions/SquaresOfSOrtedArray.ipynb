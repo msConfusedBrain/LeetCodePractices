{
  "nbformat": 4,
  "nbformat_minor": 0,
  "metadata": {
    "colab": {
      "provenance": []
    },
    "kernelspec": {
      "name": "python3",
      "display_name": "Python 3"
    },
    "language_info": {
      "name": "python"
    }
  },
  "cells": [
    {
      "cell_type": "markdown",
      "source": [
        "Given an integer array nums sorted in non-decreasing order, return an array of the squares of each number sorted in non-decreasing order.\n",
        "\n",
        "\n",
        "\n",
        "**Example 1:**\n",
        "\n",
        "Input: nums = [-4,-1,0,3,10]\n",
        "Output: [0,1,9,16,100]\n",
        "Explanation: After squaring, the array becomes [16,1,0,9,100].\n",
        "After sorting, it becomes [0,1,9,16,100].\n",
        "\n",
        "\n",
        "**Example 2:**\n",
        "\n",
        "Input: nums = [-7,-3,2,3,11]\n",
        "Output: [4,9,9,49,121]\n",
        "\n",
        "\n",
        "**Constraints:**\n",
        "\n",
        "1 <= nums.length <= 104\n",
        "-104 <= nums[i] <= 104\n",
        "nums is sorted in non-decreasing order.\n",
        "\n",
        "\n",
        "Follow up: Squaring each element and sorting the new array is very trivial, could you find an O(n) solution using a different approach?"
      ],
      "metadata": {
        "id": "HjokU8PO7SAg"
      }
    },
    {
      "cell_type": "code",
      "source": [
        "class Solution(object):\n",
        "    def sortedSquares(self, nums):\n",
        "        \"\"\"\n",
        "        :type nums: List[int]\n",
        "        :rtype: List[int]\n",
        "        \"\"\"\n",
        "        result = []\n",
        "        leftPointer = 0\n",
        "        rightPointer =len(nums) -1\n",
        "        while(leftPointer <= rightPointer):\n",
        "            if nums[leftPointer]**2 > nums[rightPointer]**2:\n",
        "                result.append(nums[leftPointer]**2)\n",
        "                leftPointer+=1\n",
        "            else:\n",
        "                result.append(nums[rightPointer]**2)\n",
        "                rightPointer-=1\n",
        "        return result[::-1]\n",
        "\n",
        "def main():\n",
        "    nums = input(\"Enter list : \")\n",
        "    sorted_squares = Solution().sortedSquares(nums)\n",
        "    print(f'Fibonacci Number is {fibonacciNumber}')\n",
        "if __name__ == '__main__':\n",
        "    main()"
      ],
      "metadata": {
        "id": "0-ydqpDI7iUf"
      },
      "execution_count": null,
      "outputs": []
    }
  ]
}