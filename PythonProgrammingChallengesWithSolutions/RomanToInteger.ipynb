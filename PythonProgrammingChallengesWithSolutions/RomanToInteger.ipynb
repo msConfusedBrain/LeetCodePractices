{
  "nbformat": 4,
  "nbformat_minor": 0,
  "metadata": {
    "colab": {
      "provenance": []
    },
    "kernelspec": {
      "name": "python3",
      "display_name": "Python 3"
    },
    "language_info": {
      "name": "python"
    }
  },
  "cells": [
    {
      "cell_type": "markdown",
      "source": [
        "Roman numerals are represented by seven different symbols: I, V, X, L, C, D and M.\n",
        "\n",
        "Symbol       Value\n",
        "I             1\n",
        "V             5\n",
        "X             10\n",
        "L             50\n",
        "C             100\n",
        "D             500\n",
        "M             1000\n",
        "For example, 2 is written as II in Roman numeral, just two ones added together. 12 is written as XII, which is simply X + II. The number 27 is written as XXVII, which is XX + V + II.\n",
        "\n",
        "Roman numerals are usually written largest to smallest from left to right. However, the numeral for four is not IIII. Instead, the number four is written as IV. Because the one is before the five we subtract it making four. The same principle applies to the number nine, which is written as IX. There are six instances where subtraction is used:\n",
        "\n",
        "I can be placed before V (5) and X (10) to make 4 and 9.\n",
        "X can be placed before L (50) and C (100) to make 40 and 90.\n",
        "C can be placed before D (500) and M (1000) to make 400 and 900.\n",
        "Given a roman numeral, convert it to an integer.\n",
        "\n",
        "\n",
        "\n",
        "Example 1:\n",
        "\n",
        "Input: s = \"III\"\n",
        "Output: 3\n",
        "Explanation: III = 3.\n",
        "Example 2:\n",
        "\n",
        "Input: s = \"LVIII\"\n",
        "Output: 58\n",
        "Explanation: L = 50, V= 5, III = 3.\n",
        "Example 3:\n",
        "\n",
        "Input: s = \"MCMXCIV\"\n",
        "Output: 1994\n",
        "Explanation: M = 1000, CM = 900, XC = 90 and IV = 4."
      ],
      "metadata": {
        "id": "0u5QQqNMX4FE"
      }
    },
    {
      "cell_type": "code",
      "execution_count": 1,
      "metadata": {
        "colab": {
          "base_uri": "https://localhost:8080/"
        },
        "id": "vPfRtdToWfqR",
        "outputId": "9f3d5fac-3364-47e4-c916-ba8a9dc3b13d"
      },
      "outputs": [
        {
          "output_type": "stream",
          "name": "stdout",
          "text": [
            "Enter Roman: X\n",
            "Number is 10\n"
          ]
        }
      ],
      "source": [
        "class Solution(object):\n",
        "\n",
        "    def romanToInt(self, s):\n",
        "        \"\"\"\n",
        "        :type s: str\n",
        "        :rtype: int\n",
        "        \"\"\"\n",
        "        roman_dict = {\n",
        "        'I' : 1,\n",
        "        'V' :5,\n",
        "        'X': 10,\n",
        "        'L': 50,\n",
        "        'C': 100,\n",
        "        'D': 500,\n",
        "        'M': 1000,\n",
        "         'IV':4,'IX':9,'XL':40,'XC':90,'CD':400,'CM':900\n",
        "            }\n",
        "        value = 0\n",
        "        i=0\n",
        "        while i < len(s):\n",
        "            if i+1 < len(s) and roman_dict.get(s[i:i+2],False):\n",
        "                value=value+roman_dict[s[i:i+2]]\n",
        "                i = i + 2\n",
        "            else:\n",
        "                value = value+roman_dict[s[i]]\n",
        "                i = i+1\n",
        "        return value\n",
        "\n",
        "def main():\n",
        "    s = input(\"Enter Roman: \")\n",
        "    number = Solution().romanToInt(s)\n",
        "    print(f'Number is {number}')\n",
        "if __name__ == '__main__':\n",
        "    main()"
      ]
    },
    {
      "cell_type": "markdown",
      "source": [],
      "metadata": {
        "id": "btfWUtoUX2sd"
      }
    }
  ]
}